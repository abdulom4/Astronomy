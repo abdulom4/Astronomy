{
  "nbformat": 4,
  "nbformat_minor": 0,
  "metadata": {
    "colab": {
      "provenance": [],
      "authorship_tag": "ABX9TyNIGnzfDhlC3PiUMpzEgram",
      "include_colab_link": true
    },
    "kernelspec": {
      "name": "python3",
      "display_name": "Python 3"
    },
    "language_info": {
      "name": "python"
    }
  },
  "cells": [
    {
      "cell_type": "markdown",
      "metadata": {
        "id": "view-in-github",
        "colab_type": "text"
      },
      "source": [
        "<a href=\"https://colab.research.google.com/github/abdulom4/Astronomy/blob/main/Calculating_the_Age_of_the_Universe.ipynb\" target=\"_parent\"><img src=\"https://colab.research.google.com/assets/colab-badge.svg\" alt=\"Open In Colab\"/></a>"
      ]
    },
    {
      "cell_type": "code",
      "source": [
        "import astropy.units as u # import astropy units\n",
        "import astropy.constants as c # import astropy constants\n",
        "import numpy as np # import numpy"
      ],
      "metadata": {
        "id": "BrsoKQRRIzYN"
      },
      "execution_count": 2,
      "outputs": []
    },
    {
      "cell_type": "markdown",
      "source": [
        "Calculating the age of the universe using Hubble constant, which we assume is 70 km/s/Mpc."
      ],
      "metadata": {
        "id": "PVL5wg3vBC68"
      }
    },
    {
      "cell_type": "markdown",
      "source": [
        "Age of universe ≈ (1)/(H₀)"
      ],
      "metadata": {
        "id": "Wrs6jdZPHRWI"
      }
    },
    {
      "cell_type": "markdown",
      "source": [
        "(1)/(H₀)*((3.086*10^19)/1)\n",
        "\n",
        ""
      ],
      "metadata": {
        "id": "PH9oR1kzJALN"
      }
    },
    {
      "cell_type": "code",
      "source": [
        "hubble_constant = 70 * (u.km / u.s / u.Mpc) # defines the hubble constant\n",
        "age_of_universe = (1 / hubble_constant).to(u.year) # calculate the age of the universe and turns it into years\n",
        "print(age_of_universe) # prints the age of the universe in years"
      ],
      "metadata": {
        "id": "WIupvIeuHSXk",
        "colab": {
          "base_uri": "https://localhost:8080/"
        },
        "outputId": "3aa6b914-1410-41d1-e077-5e1767409dd6"
      },
      "execution_count": 6,
      "outputs": [
        {
          "output_type": "stream",
          "name": "stdout",
          "text": [
            "13968460309.72556 yr\n"
          ]
        }
      ]
    },
    {
      "cell_type": "code",
      "execution_count": null,
      "metadata": {
        "id": "sGUdt2V9oejw"
      },
      "outputs": [],
      "source": []
    }
  ]
}