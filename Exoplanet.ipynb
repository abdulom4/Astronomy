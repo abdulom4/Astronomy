{
  "nbformat": 4,
  "nbformat_minor": 0,
  "metadata": {
    "colab": {
      "provenance": [],
      "authorship_tag": "ABX9TyN/IyruTZPxa+O4hLwZME6v",
      "include_colab_link": true
    },
    "kernelspec": {
      "name": "python3",
      "display_name": "Python 3"
    },
    "language_info": {
      "name": "python"
    }
  },
  "cells": [
    {
      "cell_type": "markdown",
      "metadata": {
        "id": "view-in-github",
        "colab_type": "text"
      },
      "source": [
        "<a href=\"https://colab.research.google.com/github/abdulom4/Astronomy/blob/main/Exoplanet.ipynb\" target=\"_parent\"><img src=\"https://colab.research.google.com/assets/colab-badge.svg\" alt=\"Open In Colab\"/></a>"
      ]
    },
    {
      "cell_type": "markdown",
      "source": [
        "$\\delta = (\\frac{R_{planet}}{R_{star}})^2$, to solve for $R_{planet}$, $R_{planet}$ = $\\sqrt\\delta$  $\\times$ $R_{star}$"
      ],
      "metadata": {
        "id": "FUylzso556R3"
      }
    },
    {
      "cell_type": "code",
      "execution_count": 14,
      "metadata": {
        "id": "Fw00OZNB54gG"
      },
      "outputs": [],
      "source": [
        "import astropy.units as u # imports units\n",
        "import astropy.constants as c # imports constants"
      ]
    },
    {
      "cell_type": "code",
      "source": [
        "delta = (u.earthRad / u.solRad)**2 # defines delta as the earthRad/ solRad to the ^2"
      ],
      "metadata": {
        "id": "8mWtRDc85_Co"
      },
      "execution_count": 15,
      "outputs": []
    },
    {
      "cell_type": "code",
      "source": [
        "print(delta.decompose()) # prints the value of delta"
      ],
      "metadata": {
        "colab": {
          "base_uri": "https://localhost:8080/"
        },
        "id": "6F6434Fj6u0n",
        "outputId": "7e8ca5b9-e19a-45ec-8255-c46799c2fd20"
      },
      "execution_count": 16,
      "outputs": [
        {
          "output_type": "stream",
          "name": "stdout",
          "text": [
            "8.40502e-05\n"
          ]
        }
      ]
    },
    {
      "cell_type": "code",
      "source": [
        "delta_jupiter_sun = (u.jupiterRad / u.solRad)**2 # defines delta_jupiter_sun which is jupiters radius divided by the suns radius squared"
      ],
      "metadata": {
        "id": "p3NpZUZ48D63"
      },
      "execution_count": 17,
      "outputs": []
    },
    {
      "cell_type": "code",
      "source": [
        "print(delta_jupiter_sun.decompose()) # prints the value of delta_jupiter_sun"
      ],
      "metadata": {
        "colab": {
          "base_uri": "https://localhost:8080/"
        },
        "id": "KmiVg_lY7-zc",
        "outputId": "e7998610-7bcf-43c6-a606-e3102e929c52"
      },
      "execution_count": 18,
      "outputs": [
        {
          "output_type": "stream",
          "name": "stdout",
          "text": [
            "0.0105602\n"
          ]
        }
      ]
    },
    {
      "cell_type": "markdown",
      "source": [
        "$v_{orb} = \\sqrt\\frac{GM}{a}$"
      ],
      "metadata": {
        "id": "rf1YbJqS-NZT"
      }
    },
    {
      "cell_type": "code",
      "source": [
        "import numpy as np # imports numpy\n",
        "v_orb_earth = np.sqrt(c.G * u.solMass / u.AU) # calculates the orbital velocity of the earth\n",
        "print(v_orb_earth.to(u.m / u.s)) # prints the value of v_orb_earth in m/s"
      ],
      "metadata": {
        "colab": {
          "base_uri": "https://localhost:8080/"
        },
        "id": "UaAycnWb8760",
        "outputId": "a54e5bf1-4501-4d35-98f3-ffed2b52795b"
      },
      "execution_count": 19,
      "outputs": [
        {
          "output_type": "stream",
          "name": "stdout",
          "text": [
            "29784.691829676933 m / s\n"
          ]
        }
      ]
    },
    {
      "cell_type": "markdown",
      "source": [
        "Sinc $m_p v_p = m_s v_s$, $v_s = \\frac{m_p}{m_s} \\times v_p$"
      ],
      "metadata": {
        "id": "TbXLfLl19LP5"
      }
    },
    {
      "cell_type": "code",
      "source": [
        "v_sun = u.earthMass / u.solMass * v_orb_earth # calculates the velocity of the sun\n",
        "print(v_sun.to(u.m / u.s)) # prints the velocity value of sun in m/s"
      ],
      "metadata": {
        "colab": {
          "base_uri": "https://localhost:8080/"
        },
        "id": "7Q1YrIDj9dzJ",
        "outputId": "70bcd2bd-11fa-45fb-9ab6-6c770e7b460a"
      },
      "execution_count": 20,
      "outputs": [
        {
          "output_type": "stream",
          "name": "stdout",
          "text": [
            "0.08945800466923791 m / s\n"
          ]
        }
      ]
    },
    {
      "cell_type": "markdown",
      "source": [
        "$v_s = 0.09 m/s (\\frac{m_p}{m_\\oplus})(\\frac{P}{1yr})^{-\\frac{1}{3}}\n",
        "$"
      ],
      "metadata": {
        "id": "nud3-7FDBfcQ"
      }
    },
    {
      "cell_type": "code",
      "source": [
        "v_s_jupiter = 0.09 * u.m / u.s * (u.jupiterMass / u.earthMass) * (11.9 * u.yr / u.yr)**(-1.0/3.0) # calculates the velocity of jupiter\n",
        "\n",
        "print(v_s_jupiter.to(u.m / u.s)) # prints the value of v_s_jupiter in m/s"
      ],
      "metadata": {
        "colab": {
          "base_uri": "https://localhost:8080/"
        },
        "id": "bDvXcuaf-kmt",
        "outputId": "ec6b957e-b2ad-4d72-99df-9aa23e52914d"
      },
      "execution_count": 21,
      "outputs": [
        {
          "output_type": "stream",
          "name": "stdout",
          "text": [
            "12.529091077198903 m / s\n"
          ]
        }
      ]
    },
    {
      "cell_type": "code",
      "source": [
        "(u.jupiterMass / u.earthMass).decompose() # prints the value of (u.jupiterMass / u.earthMass) and decomposes it"
      ],
      "metadata": {
        "colab": {
          "base_uri": "https://localhost:8080/",
          "height": 37
        },
        "id": "O4meRLhZDJJ9",
        "outputId": "1c9cc5f4-8747-4066-e963-a0040c7a2258"
      },
      "execution_count": 22,
      "outputs": [
        {
          "output_type": "execute_result",
          "data": {
            "text/plain": [
              "Unit(dimensionless with a scale of 317.8284065946748)"
            ],
            "text/latex": "$\\mathrm{317.82841}$"
          },
          "metadata": {},
          "execution_count": 22
        }
      ]
    },
    {
      "cell_type": "code",
      "source": [
        "rho_earth = u.earthMass / (4 * np.pi * u.earthRad**3 / 3.0) # defines rho_earth as the earth mass divided by the volume of the earth\n",
        "print(rho_earth.to(u.g / u.cm**3)) # prints the value of rho_earth in g/cm^3"
      ],
      "metadata": {
        "colab": {
          "base_uri": "https://localhost:8080/"
        },
        "id": "7qtSLRzSDQAs",
        "outputId": "34f8ef78-10c2-4c82-a78b-0f70d6e29d73"
      },
      "execution_count": 23,
      "outputs": [
        {
          "output_type": "stream",
          "name": "stdout",
          "text": [
            "5.495021865555213 g / cm3\n"
          ]
        }
      ]
    }
  ]
}