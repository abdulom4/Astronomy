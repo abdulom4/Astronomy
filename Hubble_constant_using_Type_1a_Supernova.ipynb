{
  "nbformat": 4,
  "nbformat_minor": 0,
  "metadata": {
    "colab": {
      "provenance": [],
      "authorship_tag": "ABX9TyMwDasI+MN+vlZJ4HMfmDjk",
      "include_colab_link": true
    },
    "kernelspec": {
      "name": "python3",
      "display_name": "Python 3"
    },
    "language_info": {
      "name": "python"
    }
  },
  "cells": [
    {
      "cell_type": "markdown",
      "metadata": {
        "id": "view-in-github",
        "colab_type": "text"
      },
      "source": [
        "<a href=\"https://colab.research.google.com/github/abdulom4/Astronomy/blob/main/Hubble_constant_using_Type_1a_Supernova.ipynb\" target=\"_parent\"><img src=\"https://colab.research.google.com/assets/colab-badge.svg\" alt=\"Open In Colab\"/></a>"
      ]
    },
    {
      "cell_type": "code",
      "execution_count": 1,
      "metadata": {
        "id": "pKKUu8-4YxnK"
      },
      "outputs": [],
      "source": [
        "import numpy as np # This imports numpy which allows you to use arrays\n",
        "import matplotlib.pyplot as plt # This imports matplotlib which allows you to use plots."
      ]
    },
    {
      "cell_type": "code",
      "source": [
        "import astropy.io.ascii # This allows you to read in data such as files\n",
        "import astropy.units as u # This allows you to use astropy units and simplifying the name as u\n",
        "import astropy.constants as ac # This allows you to use astropy constants and you also name it ac to simplify when using it"
      ],
      "metadata": {
        "id": "NGnrxVoTZv68"
      },
      "execution_count": 2,
      "outputs": []
    },
    {
      "cell_type": "markdown",
      "source": [
        "Hubble Constant = $H_0$ = $\\frac{v}{D}$"
      ],
      "metadata": {
        "id": "lM38LUqps0WZ"
      }
    },
    {
      "cell_type": "markdown",
      "source": [
        "Age of the Universe is:\n",
        "$\\frac{1}{H_0}$\n"
      ],
      "metadata": {
        "id": "TqxlK6ELczp4"
      }
    },
    {
      "cell_type": "code",
      "source": [
        "from google.colab import files # This allows you to upload files to colab\n",
        "uploaded = files.upload() # This allows you to upload files to colab"
      ],
      "metadata": {
        "colab": {
          "base_uri": "https://localhost:8080/",
          "height": 74
        },
        "id": "QYM-w1TkarIO",
        "outputId": "f6ac691d-5b76-41d7-f5af-0dfe40c14aae"
      },
      "execution_count": 3,
      "outputs": [
        {
          "output_type": "display_data",
          "data": {
            "text/plain": [
              "<IPython.core.display.HTML object>"
            ],
            "text/html": [
              "\n",
              "     <input type=\"file\" id=\"files-8af2c91c-253e-4bf4-b3e3-e9f8ed8425a3\" name=\"files[]\" multiple disabled\n",
              "        style=\"border:none\" />\n",
              "     <output id=\"result-8af2c91c-253e-4bf4-b3e3-e9f8ed8425a3\">\n",
              "      Upload widget is only available when the cell has been executed in the\n",
              "      current browser session. Please rerun this cell to enable.\n",
              "      </output>\n",
              "      <script>// Copyright 2017 Google LLC\n",
              "//\n",
              "// Licensed under the Apache License, Version 2.0 (the \"License\");\n",
              "// you may not use this file except in compliance with the License.\n",
              "// You may obtain a copy of the License at\n",
              "//\n",
              "//      http://www.apache.org/licenses/LICENSE-2.0\n",
              "//\n",
              "// Unless required by applicable law or agreed to in writing, software\n",
              "// distributed under the License is distributed on an \"AS IS\" BASIS,\n",
              "// WITHOUT WARRANTIES OR CONDITIONS OF ANY KIND, either express or implied.\n",
              "// See the License for the specific language governing permissions and\n",
              "// limitations under the License.\n",
              "\n",
              "/**\n",
              " * @fileoverview Helpers for google.colab Python module.\n",
              " */\n",
              "(function(scope) {\n",
              "function span(text, styleAttributes = {}) {\n",
              "  const element = document.createElement('span');\n",
              "  element.textContent = text;\n",
              "  for (const key of Object.keys(styleAttributes)) {\n",
              "    element.style[key] = styleAttributes[key];\n",
              "  }\n",
              "  return element;\n",
              "}\n",
              "\n",
              "// Max number of bytes which will be uploaded at a time.\n",
              "const MAX_PAYLOAD_SIZE = 100 * 1024;\n",
              "\n",
              "function _uploadFiles(inputId, outputId) {\n",
              "  const steps = uploadFilesStep(inputId, outputId);\n",
              "  const outputElement = document.getElementById(outputId);\n",
              "  // Cache steps on the outputElement to make it available for the next call\n",
              "  // to uploadFilesContinue from Python.\n",
              "  outputElement.steps = steps;\n",
              "\n",
              "  return _uploadFilesContinue(outputId);\n",
              "}\n",
              "\n",
              "// This is roughly an async generator (not supported in the browser yet),\n",
              "// where there are multiple asynchronous steps and the Python side is going\n",
              "// to poll for completion of each step.\n",
              "// This uses a Promise to block the python side on completion of each step,\n",
              "// then passes the result of the previous step as the input to the next step.\n",
              "function _uploadFilesContinue(outputId) {\n",
              "  const outputElement = document.getElementById(outputId);\n",
              "  const steps = outputElement.steps;\n",
              "\n",
              "  const next = steps.next(outputElement.lastPromiseValue);\n",
              "  return Promise.resolve(next.value.promise).then((value) => {\n",
              "    // Cache the last promise value to make it available to the next\n",
              "    // step of the generator.\n",
              "    outputElement.lastPromiseValue = value;\n",
              "    return next.value.response;\n",
              "  });\n",
              "}\n",
              "\n",
              "/**\n",
              " * Generator function which is called between each async step of the upload\n",
              " * process.\n",
              " * @param {string} inputId Element ID of the input file picker element.\n",
              " * @param {string} outputId Element ID of the output display.\n",
              " * @return {!Iterable<!Object>} Iterable of next steps.\n",
              " */\n",
              "function* uploadFilesStep(inputId, outputId) {\n",
              "  const inputElement = document.getElementById(inputId);\n",
              "  inputElement.disabled = false;\n",
              "\n",
              "  const outputElement = document.getElementById(outputId);\n",
              "  outputElement.innerHTML = '';\n",
              "\n",
              "  const pickedPromise = new Promise((resolve) => {\n",
              "    inputElement.addEventListener('change', (e) => {\n",
              "      resolve(e.target.files);\n",
              "    });\n",
              "  });\n",
              "\n",
              "  const cancel = document.createElement('button');\n",
              "  inputElement.parentElement.appendChild(cancel);\n",
              "  cancel.textContent = 'Cancel upload';\n",
              "  const cancelPromise = new Promise((resolve) => {\n",
              "    cancel.onclick = () => {\n",
              "      resolve(null);\n",
              "    };\n",
              "  });\n",
              "\n",
              "  // Wait for the user to pick the files.\n",
              "  const files = yield {\n",
              "    promise: Promise.race([pickedPromise, cancelPromise]),\n",
              "    response: {\n",
              "      action: 'starting',\n",
              "    }\n",
              "  };\n",
              "\n",
              "  cancel.remove();\n",
              "\n",
              "  // Disable the input element since further picks are not allowed.\n",
              "  inputElement.disabled = true;\n",
              "\n",
              "  if (!files) {\n",
              "    return {\n",
              "      response: {\n",
              "        action: 'complete',\n",
              "      }\n",
              "    };\n",
              "  }\n",
              "\n",
              "  for (const file of files) {\n",
              "    const li = document.createElement('li');\n",
              "    li.append(span(file.name, {fontWeight: 'bold'}));\n",
              "    li.append(span(\n",
              "        `(${file.type || 'n/a'}) - ${file.size} bytes, ` +\n",
              "        `last modified: ${\n",
              "            file.lastModifiedDate ? file.lastModifiedDate.toLocaleDateString() :\n",
              "                                    'n/a'} - `));\n",
              "    const percent = span('0% done');\n",
              "    li.appendChild(percent);\n",
              "\n",
              "    outputElement.appendChild(li);\n",
              "\n",
              "    const fileDataPromise = new Promise((resolve) => {\n",
              "      const reader = new FileReader();\n",
              "      reader.onload = (e) => {\n",
              "        resolve(e.target.result);\n",
              "      };\n",
              "      reader.readAsArrayBuffer(file);\n",
              "    });\n",
              "    // Wait for the data to be ready.\n",
              "    let fileData = yield {\n",
              "      promise: fileDataPromise,\n",
              "      response: {\n",
              "        action: 'continue',\n",
              "      }\n",
              "    };\n",
              "\n",
              "    // Use a chunked sending to avoid message size limits. See b/62115660.\n",
              "    let position = 0;\n",
              "    do {\n",
              "      const length = Math.min(fileData.byteLength - position, MAX_PAYLOAD_SIZE);\n",
              "      const chunk = new Uint8Array(fileData, position, length);\n",
              "      position += length;\n",
              "\n",
              "      const base64 = btoa(String.fromCharCode.apply(null, chunk));\n",
              "      yield {\n",
              "        response: {\n",
              "          action: 'append',\n",
              "          file: file.name,\n",
              "          data: base64,\n",
              "        },\n",
              "      };\n",
              "\n",
              "      let percentDone = fileData.byteLength === 0 ?\n",
              "          100 :\n",
              "          Math.round((position / fileData.byteLength) * 100);\n",
              "      percent.textContent = `${percentDone}% done`;\n",
              "\n",
              "    } while (position < fileData.byteLength);\n",
              "  }\n",
              "\n",
              "  // All done.\n",
              "  yield {\n",
              "    response: {\n",
              "      action: 'complete',\n",
              "    }\n",
              "  };\n",
              "}\n",
              "\n",
              "scope.google = scope.google || {};\n",
              "scope.google.colab = scope.google.colab || {};\n",
              "scope.google.colab._files = {\n",
              "  _uploadFiles,\n",
              "  _uploadFilesContinue,\n",
              "};\n",
              "})(self);\n",
              "</script> "
            ]
          },
          "metadata": {}
        },
        {
          "output_type": "stream",
          "name": "stdout",
          "text": [
            "Saving Tonry_2003.vot to Tonry_2003.vot\n"
          ]
        }
      ]
    },
    {
      "cell_type": "code",
      "source": [
        "data = astropy.io.ascii.read('Tonry_2003.vot') # This reads in the data from the file\n",
        "print(data) # This prints the data that wasa read in above\n"
      ],
      "metadata": {
        "colab": {
          "base_uri": "https://localhost:8080/"
        },
        "id": "AtIsn5bsa2mB",
        "outputId": "991dbee4-f66c-4044-f329-e5806433177a"
      },
      "execution_count": 4,
      "outputs": [
        {
          "output_type": "stream",
          "name": "stderr",
          "text": [
            "/usr/local/lib/python3.10/dist-packages/astropy/io/ascii/html.py:91: XMLParsedAsHTMLWarning: It looks like you're parsing an XML document using an HTML parser. If this really is an HTML document (maybe it's XHTML?), you can ignore or filter this warning. If it's XML, you should know that using an XML parser will be more reliable. To parse this document as XML, make sure you have the lxml package installed, and pass the keyword argument `features=\"xml\"` into the BeautifulSoup constructor.\n",
            "  soup = BeautifulSoup(\"\\n\".join(lines))\n"
          ]
        },
        {
          "output_type": "stream",
          "name": "stdout",
          "text": [
            "  col1     col2    col3   col4    col5    col6  col7  col8  col9  col10    col11  \n",
            "-------- ------- ------- ------ -------- ----- ----- ----- ----- -------- --------\n",
            " SN1972E  314.84   30.08 0.0023    N5253    16 2.839 2.399 0.033 204.9697 -31.6692\n",
            " SN1980N 240.161 -56.689 0.0056    N1316     9 3.225  3.14 0.043  50.6753 -37.2074\n",
            " SN1981B  292.97  64.743 0.0072    N4536     2 3.334 3.077 0.041 188.6233   2.1995\n",
            " SN1981D 240.161 -56.689 0.0056    N1316     9 3.225 3.044 0.055  50.6753 -37.2074\n",
            " SN1986G 309.543  19.401 0.0027    N5128    26 2.908  2.44 0.035 201.4028 -43.0316\n",
            " SN1988U   8.737 -81.227   0.31     Anon    24 4.968 5.096 0.072   3.5756 -30.4164\n",
            " SN1989B 241.991  64.403 0.0036    N3627    37 3.033 2.844  0.03 170.0578  12.9718\n",
            " SN1990N 294.369  75.987 0.0044    N4639    21  3.12 3.204 0.035 190.7367  13.2566\n",
            " SN1990O  37.654   28.36 0.0307 M+034403    10 3.964 3.977 0.025 258.8999  16.3241\n",
            " SN1990T 341.503 -31.526   0.04   P63925    10 4.079 4.101 0.042 299.7601 -56.2583\n",
            "     ...     ...     ...    ...      ...   ...   ...   ...   ...      ...      ...\n",
            "SN2000cx 136.506 -52.482  0.007    N0524 11:19 3.322  3.32 0.023  21.1926    9.509\n",
            "SN2000dk 126.834 -30.344 0.0164    N0382    11 3.692 3.677 0.023  16.8483  32.4068\n",
            "SN2000dz  84.367  -56.39    0.5     Anon    13 5.176 5.352 0.053 352.6728   0.3119\n",
            "SN2000ea 167.211 -61.402   0.42     Anon    13   5.1 5.091 0.053  32.4751  -5.4719\n",
            "SN2000ec 166.295 -60.176   0.47     Anon    13 5.149  5.34 0.043  32.8836  -4.2321\n",
            "SN2000ee 166.045 -53.429   0.47     Anon    13 5.149 5.343 0.041  36.8945   1.1971\n",
            "SN2000eg 167.097 -53.108   0.54     Anon    13 5.209 5.236 0.049  37.5883   1.0639\n",
            "SN2000eh 188.297 -31.651   0.49     Anon    13 5.167 5.224 0.042  63.7604   4.3888\n",
            "SN2000fa 194.167  15.479 0.0218   U03770    11 3.815 3.837 0.026 108.8752  23.4287\n",
            " SN2001V 218.929  77.733 0.0162    N3987    22 3.686 3.662 0.023 179.3542  25.2024\n",
            "Length = 230 rows\n"
          ]
        }
      ]
    },
    {
      "cell_type": "code",
      "source": [
        "distance = 10**data[\"col8\"] / 72.0 * u.mpc # This is the distance of the universe\n",
        "velocity = 10**data[\"col7\"] * u.km / u.s  # This is the velocity of the universe\n",
        "plt.plot(distance.to(u.mpc).value, velocity.to(u.km / u.s).value, marker=\".\", color=\"black\", linestyle=\"none\") # This plots the data\n",
        "plt.xscale(\"log\") # This makes the x axis logarithmic\n",
        "plt.yscale(\"log\") # This makes the y axis logarithmic\n",
        "plt.xlabel(\"Distance [Mpc]\") # This is the x axis label\n",
        "plt.ylabel(\"Velocity [km/s]\") # This is the y axis label\n",
        "plt.title(\"Acceleration of the Universe\") # This is the title of the plot"
      ],
      "metadata": {
        "colab": {
          "base_uri": "https://localhost:8080/",
          "height": 494
        },
        "id": "PGD-zh4ic972",
        "outputId": "621a4b34-3a84-48ab-a335-0752bc5e4e9e"
      },
      "execution_count": 5,
      "outputs": [
        {
          "output_type": "execute_result",
          "data": {
            "text/plain": [
              "Text(0.5, 1.0, 'Acceleration of the Universe')"
            ]
          },
          "metadata": {},
          "execution_count": 5
        },
        {
          "output_type": "display_data",
          "data": {
            "text/plain": [
              "<Figure size 640x480 with 1 Axes>"
            ],
            "image/png": "[encoded data removed]"
          },
          "metadata": {}
        }
      ]
    },
    {
      "cell_type": "code",
      "source": [
        "distance_error = (10**(data[\"col8\"]+data[\"col9\"]) - 10**data[\"col8\"]) / 72.0 * u.mpc"
      ],
      "metadata": {
        "id": "JBleLn6YIegd"
      },
      "execution_count": 6,
      "outputs": []
    },
    {
      "cell_type": "code",
      "source": [
        "distance = 10**data[\"col8\"] / 72.0 * u.mpc\n",
        "velocity = 10**data[\"col7\"] * u.km / u.s\n",
        "plt.errorbar(distance.to(u.mpc).value, velocity.to(u.km / u.s).value, xerr=distance_error.to(u.mpc).value, marker=\".\", color=\"black\", linestyle=\"none\")\n",
        "plt.xlim(0, 700)\n",
        "plt.ylim(0, 4e4)\n",
        "plt.xlabel(\"Distance [Mpc]\")\n",
        "plt.ylabel(\"Velocity [km/s]\")\n",
        ""
      ],
      "metadata": {
        "colab": {
          "base_uri": "https://localhost:8080/",
          "height": 473
        },
        "id": "ONi2GMtb9qFA",
        "outputId": "f77b22cd-c8bf-423c-8edc-351d3f2831f3"
      },
      "execution_count": 22,
      "outputs": [
        {
          "output_type": "execute_result",
          "data": {
            "text/plain": [
              "Text(0, 0.5, 'Velocity [km/s]')"
            ]
          },
          "metadata": {},
          "execution_count": 22
        },
        {
          "output_type": "display_data",
          "data": {
            "text/plain": [
              "<Figure size 640x480 with 1 Axes>"
            ],
            "image/png": "[encoded data removed]"
          },
          "metadata": {}
        }
      ]
    },
    {
      "cell_type": "code",
      "source": [
        "x = distance.to(u.mpc).value # This is the distance of the universe in Mpc\n",
        "ind = np.where((x > 0) & (x < 700)) # This is the index of the data that is being used\n",
        "z = np.polyfit(distance.to(u.mpc).value[ind], velocity.to(u.km / u.s).value[ind], 1) # This fits the data to a line\n",
        "p = np.poly1d(z) # This is the line of best fit"
      ],
      "metadata": {
        "id": "c0XJ1FOxIqrS"
      },
      "execution_count": 8,
      "outputs": []
    },
    {
      "cell_type": "code",
      "source": [
        "Hubble_ConstantS = velocity / distance #  This calculates the hubble constant\n",
        "print(Hubble_ConstantS) # This prints the hubble constant"
      ],
      "metadata": {
        "colab": {
          "base_uri": "https://localhost:8080/"
        },
        "id": "YOLkoJLMihRt",
        "outputId": "3ee39474-ab1f-4385-afdf-2c1f2820591c"
      },
      "execution_count": 9,
      "outputs": [
        {
          "output_type": "stream",
          "name": "stdout",
          "text": [
            "[198.30446664  87.56539205 130.11653707 109.22762646 211.51077494\n",
            "  53.62070212 111.25831965  59.33794428  69.87671764  68.44354514\n",
            "  87.16306562  76.61829731  65.81615339  62.99883182 165.32270266\n",
            "  82.47693178  72.          78.2226449   94.04430395  69.23608404\n",
            "  79.12842044  89.39896615  65.81615339  70.84879961  77.32723769\n",
            "  70.36107991  66.88557985  73.67709544  67.03976703  71.50435549\n",
            "  62.56515091  49.46892768  75.04685492  74.530236    69.07684547\n",
            "  78.58370422  68.75946619  64.02248049  69.23608404  77.32723769\n",
            "  65.96787529  65.81615339  80.41415384  66.73174728  72.\n",
            "  60.44111903  79.8605867   57.8538808   53.49737793  72.\n",
            "  76.61829731  76.9719513   69.3956897   70.52327895  75.21985578\n",
            "  85.76942458  59.06531119  58.65870845  59.33794428  52.03942586\n",
            "  70.36107991  69.07684547  53.62070212  65.36307817  73.16990589\n",
            "  71.01212297  79.8605867   60.86007685  71.50435549  63.58175283\n",
            "  47.56992826  45.32444517  40.76922881  65.66478043  61.00037382\n",
            "  64.02248049  55.50504977  64.02248049  51.80032642  73.84693869\n",
            "  61.1409942   64.02248049  53.62070212  54.24160059  63.28962121\n",
            "  53.86820404  78.04273781  59.61183579  47.78950107  72.6662078\n",
            "  91.27093434  76.9719513   64.02248049  80.59952761  63.14405912\n",
            "  68.91797313  61.84897355  72.          78.2226449   69.55566329\n",
            "  79.12842044  78.40296672  69.3956897   57.1916329   53.12910457\n",
            "  60.72010256  57.32347323  43.8866566   47.24245917  45.95497101\n",
            "  67.66007836  53.2515798   43.98782579  55.76124944  71.8344046\n",
            "  48.67797423  34.94077201  49.3551523   66.73174728  33.44509982\n",
            "  50.97209648  59.47473237  50.85486391  50.62120703  66.73174728\n",
            "  61.42320821  52.64201401  55.25002723  63.28962121  57.58806636\n",
            "  51.20737298  76.26626821  41.91143168  49.2416386   91.48133558\n",
            "  51.9197385   61.42320821  78.76485837  67.97238309  90.2261646\n",
            "  80.04468436  58.79393074  56.14776796  51.32541817  48.23169188\n",
            "  70.36107991  55.76124944  76.9719513   75.04685492  59.47473237\n",
            "  64.02248049  81.90916458  55.50504977  63.72832391  68.60132381\n",
            "  53.12910457  47.13380453  70.6858519   50.97209648  43.58454298\n",
            "  54.6175854   75.56705486  79.8605867   55.3773917   37.18197859\n",
            "  52.64201401  75.21985578  63.14405912 113.58801142  69.07684547\n",
            "  68.91797313  78.04273781  63.58175283  64.91312191  69.55566329\n",
            "  37.01114291  68.60132381  65.81615339  65.51375563  77.684164\n",
            "  68.44354514  59.74925526  68.28612936  82.0979847   64.02248049\n",
            "  74.87425194  70.84879961  45.84927751  51.56232554  71.8344046\n",
            "  70.19925392  71.01212297  67.97238309  49.92665803  71.01212297\n",
            " 173.51319087  67.03976703  82.0979847   62.27769015  62.70937848\n",
            "  83.04863456  58.52379716  56.79792847  78.04273781  50.50478149\n",
            "  58.38919617  48.01008738  49.92665803  53.86820404  57.98724777\n",
            "  57.8538808   59.06531119  68.28612936  83.6243002   65.51375563\n",
            "  75.74125492  70.52327895  70.19925392  60.02504529  71.50435549\n",
            "  72.3323369   74.530236    48.01008738  73.50764283  46.38018712\n",
            "  46.06090815  67.66007836  63.14405912  68.44354514  76.09086066] km / (mpc s)\n"
          ]
        }
      ]
    },
    {
      "cell_type": "code",
      "source": [
        "velocity_model = p(distance.to(u.mpc).value) # This is the model of the velocity\n",
        "plt.errorbar(distance.to(u.mpc).value, velocity.to(u.km / u.s).value, xerr=distance_error.to(u.mpc).value, marker=\".\", color=\"black\", linestyle=\"none\")\n",
        "plt.plot(distance.to(u.mpc).value, velocity_model, color=\"grey\", linewidth=5)\n",
        "plt.xlim(0, 700)\n",
        "plt.ylim(0, 4e4)\n",
        "plt.xlabel(\"Distance [Mpc]\")\n",
        "plt.ylabel(\"Velocity [km/s]\")\n",
        "plt.annotate(r\"$H_0$= {0:5.2f} km/s/Mpc\".format(z[0]), xy=(50, 30000))"
      ],
      "metadata": {
        "colab": {
          "base_uri": "https://localhost:8080/",
          "height": 473
        },
        "id": "jiEJAZg7J0K1",
        "outputId": "e199f9a4-cb91-4fea-c7ad-0ed8556b431c"
      },
      "execution_count": 10,
      "outputs": [
        {
          "output_type": "execute_result",
          "data": {
            "text/plain": [
              "Text(50, 30000, '$H_0$= 67.48 km/s/Mpc')"
            ]
          },
          "metadata": {},
          "execution_count": 10
        },
        {
          "output_type": "display_data",
          "data": {
            "text/plain": [
              "<Figure size 640x480 with 1 Axes>"
            ],
            "image/png": "[encoded data removed]"
          },
          "metadata": {}
        }
      ]
    },
    {
      "cell_type": "code",
      "source": [
        "average = np.average(Hubble_ConstantS) # This calculates the average of the hubble constant\n",
        "print(average) # This prints the average of the hubble constant in km/(mpc s)"
      ],
      "metadata": {
        "colab": {
          "base_uri": "https://localhost:8080/"
        },
        "id": "x3T5-2tcihnP",
        "outputId": "3f657733-4e82-4eec-eb67-d32fa6177ec4"
      },
      "execution_count": 11,
      "outputs": [
        {
          "output_type": "stream",
          "name": "stdout",
          "text": [
            "67.7316752356907 km / (mpc s)\n"
          ]
        }
      ]
    },
    {
      "cell_type": "markdown",
      "source": [
        "Age of universe ≈ $\\frac{1}{H_0}$"
      ],
      "metadata": {
        "id": "HNLDTQdSih5j"
      }
    },
    {
      "cell_type": "code",
      "source": [
        "hubble_constant = 67.7316752356907 * (u.km / u.s / u.Mpc) # defines the hubble constant\n",
        "age_of_universe = (1 / hubble_constant).to(u.year) # calculate the age of the universe and turns it into years\n",
        "print(age_of_universe) # prints the age of the universe in years\n",
        "print(hubble_constant) # prints the hubble constant in km/(mpc s)"
      ],
      "metadata": {
        "colab": {
          "base_uri": "https://localhost:8080/"
        },
        "id": "deU-eKa6ijG1",
        "outputId": "8247420d-be95-42e4-97f1-b4bec72e9e7c"
      },
      "execution_count": 12,
      "outputs": [
        {
          "output_type": "stream",
          "name": "stdout",
          "text": [
            "14436262181.295479 yr\n",
            "67.7316752356907 km / (Mpc s)\n"
          ]
        }
      ]
    },
    {
      "cell_type": "code",
      "source": [
        "age_of_universe2 = (1 / (67.48 * (u.km/u.s/u.Mpc))).to(u.yr) # calculate the age of the universe and turns it into yr\n",
        "print(age_of_universe2) # prints the age of the universe in yr"
      ],
      "metadata": {
        "colab": {
          "base_uri": "https://localhost:8080/"
        },
        "id": "g9_LluH9LyUv",
        "outputId": "ea1f9e3e-b538-4625-ccf8-ad26fb2e02bb"
      },
      "execution_count": 13,
      "outputs": [
        {
          "output_type": "stream",
          "name": "stdout",
          "text": [
            "14490104055.731909 yr\n"
          ]
        }
      ]
    },
    {
      "cell_type": "code",
      "source": [
        "14490104055.731909 - 14436262181.295479 # This is the difference between both age of the universe in years"
      ],
      "metadata": {
        "colab": {
          "base_uri": "https://localhost:8080/"
        },
        "id": "N310d8F6IpJ6",
        "outputId": "7796bd2b-ccdd-46fd-ffd7-2fa4b08462fc"
      },
      "execution_count": 14,
      "outputs": [
        {
          "output_type": "execute_result",
          "data": {
            "text/plain": [
              "53841874.43642998"
            ]
          },
          "metadata": {},
          "execution_count": 14
        }
      ]
    },
    {
      "cell_type": "markdown",
      "source": [
        "This amounts to 53 million or 53841874.43642998 which is a significant amount for the years. The problem is that slope is more accurate because it isn't as affect by the outliers like the slope is which helps give a more precise measurement."
      ],
      "metadata": {
        "id": "QDn-9dsZTFIP"
      }
    },
    {
      "cell_type": "code",
      "source": [
        "# prompt: chi reduced squared formula input values above\n",
        "\n",
        "def reduced_chi_squared(observed, model, errors): # This is the formula for the chi squared\n",
        "  \"\"\"Calculates the reduced chi-squared statistic.\n",
        "\n",
        "  Args:\n",
        "    observed: Array of observed data.\n",
        "    model: Array of model predictions.\n",
        "    errors: Array of uncertainties in the observed data.\n",
        "\n",
        "  Returns:\n",
        "    The reduced chi-squared statistic.\n",
        "  \"\"\"\n",
        "  chi_squared = np.sum(((observed - model) / errors)**2)\n",
        "  len(observed)\n",
        "  z = np.polyfit(observed, model, 1) # This is the formula for the reduced chi squared\n",
        "  degrees_of_freedom = len(observed) - len(z)\n",
        "  return chi_squared / degrees_of_freedom\n",
        "\n",
        "\n",
        "# Assuming you have your data and model already defined\n",
        "# Example: observed = velocity.to(u.km / u.s).value[ind]\n",
        "#         model = velocity_model[ind]\n",
        "#         errors = np.array(\n",
        "#             [distance_error.to(u.mpc).value[i] for i in ind])\n",
        "\n",
        "reduced_chi_sq = reduced_chi_squared(\n",
        "    velocity.to(u.km / u.s).value[ind], velocity_model[ind], # This is the formula for the chi squared\n",
        "    np.array([distance_error.to(u.mpc).value[i] for i in ind])) # array for the error bar\n",
        "\n",
        "print(f\"Reduced Chi-Squared: {reduced_chi_sq}\")\n",
        "\n",
        "# This number was way to big because for a reduced chi squared the closer to 1 it is the more accurate your data, formula and graph are\n",
        "# and it shows if it fits well in the data."
      ],
      "metadata": {
        "colab": {
          "base_uri": "https://localhost:8080/"
        },
        "id": "sNcgpBnoTD5s",
        "outputId": "65ac6a47-35ae-43b9-e0cb-cf36378c75ed"
      },
      "execution_count": 15,
      "outputs": [
        {
          "output_type": "stream",
          "name": "stdout",
          "text": [
            "Reduced Chi-Squared: 30553.68959486419\n"
          ]
        }
      ]
    },
    {
      "cell_type": "code",
      "source": [
        "observed = velocity.to(u.km / u.s).value[ind]  # Observed values\n",
        "\n",
        "if hasattr(velocity_model, 'unit'):  # Check if velocity_model is an Astropy Quantity\n",
        "    model = velocity_model[ind].to(u.km / u.s).value  # Convert to km/s if it's a Quantity\n",
        "else:\n",
        "    model = velocity_model[ind]  # Assume it's already in km/s if it's not a Quantity\n",
        "\n",
        "# Define velocity error as a percentage of observed values\n",
        "percentage_error = 5  # Replace with your actual percentage error estimate\n",
        "velocity_error = (percentage_error / 100) * observed * u.km / u.s  # Velocity errors based on observed values\n",
        "\n",
        "errors = velocity_error.to(u.km / u.s).value  # Convert errors to km/s if needed\n",
        "\n",
        "reduced_chi_sq = reduced_chi_squared(observed, model, errors)  # This is the formula for the chi squared\n",
        "print(f\"Reduced Chi-Squared: {reduced_chi_sq}\")  # Print the reduced chi-squared value\n",
        "# This gave a smaller reduced chi squared which shows that the data is more accurate"
      ],
      "metadata": {
        "colab": {
          "base_uri": "https://localhost:8080/"
        },
        "id": "UAnYdHZ126nY",
        "outputId": "431af0de-94b0-4f83-eb29-e171bcd483a1"
      },
      "execution_count": 19,
      "outputs": [
        {
          "output_type": "stream",
          "name": "stdout",
          "text": [
            "Reduced Chi-Squared: 13.52455005206\n"
          ]
        }
      ]
    }
  ]
}